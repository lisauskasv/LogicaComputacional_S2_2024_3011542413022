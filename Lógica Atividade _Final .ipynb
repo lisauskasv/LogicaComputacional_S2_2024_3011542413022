{
 "cells": [
  {
   "cell_type": "code",
   "execution_count": 1,
   "id": "2860eca8",
   "metadata": {},
   "outputs": [
    {
     "name": "stdout",
     "output_type": "stream",
     "text": [
      "p  q  r  s  |  (p→q)  (r→s)  (p∨r)  ((p→q)∧(r→s)∧(p∨r))  (q∨s)  ((p→q)∧(r→s)∧(p∨r))→(q∨s)\n",
      "------------------------------------------------------------------------------------------\n",
      "True  True  True  True  |    True      True      True           True                 True      True\n",
      "True  True  True  False  |    True      False      True           False                 True      True\n",
      "True  True  False  True  |    True      True      True           True                 True      True\n",
      "True  True  False  False  |    True      True      True           True                 True      True\n",
      "True  False  True  True  |    False      True      True           False                 True      True\n",
      "True  False  True  False  |    False      False      True           False                 False      True\n",
      "True  False  False  True  |    False      True      True           False                 True      True\n",
      "True  False  False  False  |    False      True      True           False                 False      True\n",
      "False  True  True  True  |    True      True      True           True                 True      True\n",
      "False  True  True  False  |    True      False      True           False                 True      True\n",
      "False  True  False  True  |    True      True      False           False                 True      True\n",
      "False  True  False  False  |    True      True      False           False                 True      True\n",
      "False  False  True  True  |    True      True      True           True                 True      True\n",
      "False  False  True  False  |    True      False      True           False                 False      True\n",
      "False  False  False  True  |    True      True      False           False                 True      True\n",
      "False  False  False  False  |    True      True      False           False                 False      True\n"
     ]
    }
   ],
   "source": [
    "from itertools import product\n",
    "\n",
    "\n",
    "def implication(p, q):\n",
    "    return not p or q\n",
    "\n",
    "\n",
    "def tabela_verdade_dc():\n",
    "    print(\"p  q  r  s  |  (p→q)  (r→s)  (p∨r)  ((p→q)∧(r→s)∧(p∨r))  (q∨s)  ((p→q)∧(r→s)∧(p∨r))→(q∨s)\")\n",
    "    print(\"-\" * 90)\n",
    "    \n",
    "    \n",
    "    for p, q, r, s in product([True, False], repeat=4):\n",
    "        # Calcula os valores intermediários\n",
    "        imp_p_q = implication(p, q)  # (p → q)\n",
    "        imp_r_s = implication(r, s)  # (r → s)\n",
    "        p_or_r = p or r              # (p ∨ r)\n",
    "        \n",
    "        \n",
    "        left_expr = imp_p_q and imp_r_s and p_or_r  # (p → q) ∧ (r → s) ∧ (p ∨ r)\n",
    "        \n",
    "        # Parte à direita\n",
    "        q_or_s = q or s              # (q ∨ s)\n",
    "        \n",
    "        \n",
    "        dc_expr = not left_expr or q_or_s  \n",
    "        \n",
    "        \n",
    "        print(f\"{p}  {q}  {r}  {s}  |    {imp_p_q}      {imp_r_s}      {p_or_r}           {left_expr}                 {q_or_s}      {dc_expr}\")\n",
    "\n",
    "\n",
    "tabela_verdade_dc()\n"
   ]
  },
  {
   "cell_type": "code",
   "execution_count": null,
   "id": "fd90420a",
   "metadata": {},
   "outputs": [],
   "source": [
    "#TrabalhoFinalizado"
   ]
  }
 ],
 "metadata": {
  "kernelspec": {
   "display_name": "Python 3 (ipykernel)",
   "language": "python",
   "name": "python3"
  },
  "language_info": {
   "codemirror_mode": {
    "name": "ipython",
    "version": 3
   },
   "file_extension": ".py",
   "mimetype": "text/x-python",
   "name": "python",
   "nbconvert_exporter": "python",
   "pygments_lexer": "ipython3",
   "version": "3.11.7"
  }
 },
 "nbformat": 4,
 "nbformat_minor": 5
}
